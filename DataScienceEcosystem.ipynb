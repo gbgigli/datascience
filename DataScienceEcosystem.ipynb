{
  "cells": [
    {
      "cell_type": "markdown",
      "source": [
        "# Data Science Tools"
      ],
      "metadata": {
        "id": "D4nHPE5T95cv"
      },
      "id": "D4nHPE5T95cv"
    },
    {
      "cell_type": "markdown",
      "id": "76c65c4a-12a7-436c-8aa6-d4a5120ede9b",
      "metadata": {
        "id": "76c65c4a-12a7-436c-8aa6-d4a5120ede9b"
      },
      "source": [
        "Introduction\n",
        "\n",
        "Data science has become a cornerstone of decision-making and innovation across various industries. This field combines programming, statistics, and domain knowledge to extract meaningful insights from data. In this notebook, we will explore key tools and components of the data science ecosystem. We’ll cover popular programming languages, libraries, and development environments that enable data scientists to analyze data, build predictive models, and communicate results effectively. This overview aims to provide a foundation for understanding the tools that are essential to the data science workflow, highlighting their roles and applications in real-world scenarios."
      ]
    },
    {
      "cell_type": "markdown",
      "id": "d528a141-0ab9-4637-b217-167036282374",
      "metadata": {
        "id": "d528a141-0ab9-4637-b217-167036282374"
      },
      "source": [
        "Objectives\n",
        "- List popular languages for Data Science\n",
        "- Identify commonly used libraries in Data Science\n",
        "- Highlight development environment tools used in Data Science\n",
        "- Provide examples of basic arithmetic operations\n",
        "- Demonstrate how to convert units (minutes to hours)"
      ]
    },
    {
      "cell_type": "markdown",
      "id": "2a4a2c9f-f59f-4725-930b-c54fccbdd436",
      "metadata": {
        "id": "2a4a2c9f-f59f-4725-930b-c54fccbdd436"
      },
      "source": [
        "Some of the popular languages that Data Scientists use are:\n",
        "\n",
        "\n",
        "1. Python\n",
        "2. R\n",
        "3. SQL\n",
        "4. Julia\n",
        "5. Scala"
      ]
    },
    {
      "cell_type": "markdown",
      "id": "7cf99546-feb7-4e5b-adbb-1f10d8ab2c66",
      "metadata": {
        "id": "7cf99546-feb7-4e5b-adbb-1f10d8ab2c66"
      },
      "source": [
        "Some of the commonly used libraries used by Data Scientists include:\n",
        "1. Pandas\n",
        "2. NumPy\n",
        "3. Matplotlib\n",
        "4. Scikit-learn\n",
        "5. TensorFlow"
      ]
    },
    {
      "cell_type": "markdown",
      "id": "921cd680-7925-48f7-a805-0982c4981d4b",
      "metadata": {
        "id": "921cd680-7925-48f7-a805-0982c4981d4b"
      },
      "source": [
        "  | Data Science Tools |\n",
        "  |--------------------|\n",
        "  | Jupyter Notebook   |\n",
        "  | RStudio            |\n",
        "  | Apache Zeppelin    |"
      ]
    },
    {
      "cell_type": "markdown",
      "id": "6b55b058-c07e-4fb4-91a5-b75d3db46422",
      "metadata": {
        "id": "6b55b058-c07e-4fb4-91a5-b75d3db46422"
      },
      "source": [
        "### Below are a few examples of evaluating arithmetic expressions in Python.\n",
        "\n",
        "**Addition**\n",
        "\n",
        "5 + 7  # Output: 12\n",
        "\n",
        "**Subtraction**\n",
        "\n",
        "10 - 3  # Output: 7\n",
        "\n",
        " **Multiplication**\n",
        "\n",
        "4 * 6  # Output: 24\n",
        "\n",
        " **Division**\n",
        "\n",
        "20 / 4  # Output: 5.0\n",
        "\n",
        " **Exponentiation**\n",
        "\n",
        "3 ** 2  # Output: 9\n",
        "\n",
        " **Modulus**\n",
        "\n",
        "10 % 3  # Output: 1\n",
        "\n",
        " **Order of Operations**\n",
        "\n",
        "(3 + 5) * 2 - 6 / 3  # Output: 14.0"
      ]
    },
    {
      "cell_type": "code",
      "execution_count": null,
      "id": "5c3d633d-21fe-43d6-806c-afdbb752e4e6",
      "metadata": {
        "id": "5c3d633d-21fe-43d6-806c-afdbb752e4e6",
        "outputId": "1d688382-ddb5-4efc-e8b6-000a7df2d0e5"
      },
      "outputs": [
        {
          "data": {
            "text/plain": [
              "17"
            ]
          },
          "execution_count": 1,
          "metadata": {},
          "output_type": "execute_result"
        }
      ],
      "source": [
        "# This is a simple arithmetic expression to multiply then add integers\n",
        "(3 * 4) + 5"
      ]
    },
    {
      "cell_type": "code",
      "execution_count": null,
      "id": "6e58c551-9891-41f3-881b-44f0ee9bc5f0",
      "metadata": {
        "id": "6e58c551-9891-41f3-881b-44f0ee9bc5f0",
        "outputId": "8cee0706-ab43-4433-dda3-d53243d83849"
      },
      "outputs": [
        {
          "data": {
            "text/plain": [
              "3.3333333333333335"
            ]
          },
          "execution_count": 4,
          "metadata": {},
          "output_type": "execute_result"
        }
      ],
      "source": [
        "# This will convert 200 minutes to hours by dividing by 60\n",
        "200 / 60"
      ]
    },
    {
      "cell_type": "markdown",
      "id": "046eca38-828e-4a14-b59a-c132c1cab668",
      "metadata": {
        "id": "046eca38-828e-4a14-b59a-c132c1cab668"
      },
      "source": [
        "## Author\n",
        "Giuliano Gigli"
      ]
    }
  ],
  "metadata": {
    "kernelspec": {
      "display_name": "Python 3 (ipykernel)",
      "language": "python",
      "name": "python3"
    },
    "language_info": {
      "codemirror_mode": {
        "name": "ipython",
        "version": 3
      },
      "file_extension": ".py",
      "mimetype": "text/x-python",
      "name": "python",
      "nbconvert_exporter": "python",
      "pygments_lexer": "ipython3",
      "version": "3.11.9"
    },
    "colab": {
      "provenance": []
    }
  },
  "nbformat": 4,
  "nbformat_minor": 5
}